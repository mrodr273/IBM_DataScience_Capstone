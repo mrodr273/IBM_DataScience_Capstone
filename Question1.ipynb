{
 "cells": [
  {
   "cell_type": "code",
   "execution_count": 2,
   "metadata": {},
   "outputs": [],
   "source": [
    "import pandas as pd\n",
    "import numpy as np\n",
    "import scipy\n",
    "import os\n",
    "import matplotlib.pyplot as plt\n",
    "import seaborn as sns\n",
    "from sklearn.preprocessing import MinMaxScaler\n",
    "from sklearn.preprocessing import StandardScaler\n",
    "from sklearn.preprocessing import Normalizer\n",
    "from sklearn.preprocessing import Binarizer\n",
    "from IPython.display import display\n",
    "%matplotlib inline\n",
    "\n",
    "pd.options.display.float_format = '{:20,.3f}'.format\n",
    "pd.options.display.max_columns = None\n",
    "pd.options.display.max_colwidth = 1000\n",
    "np.set_printoptions(precision=3)"
   ]
  },
  {
   "cell_type": "code",
   "execution_count": 3,
   "metadata": {},
   "outputs": [],
   "source": [
    "columns_used = ['borough', 'city', 'complaint_type', 'created_date', 'incident_address', 'incident_zip', 'latitude', 'location_type', 'longitude','street_name', 'unique_key']"
   ]
  },
  {
   "cell_type": "code",
   "execution_count": 4,
   "metadata": {},
   "outputs": [],
   "source": [
    "df = pd.read_csv('https://data.cityofnewyork.us/resource/fhrw-4uyv.csv?$limit=100000000&Agency=HPD&$select=created_date,unique_key,complaint_type,incident_zip,incident_address,street_name,address_type,city,resolution_description,borough,latitude,longitude,closed_date,location_type,status', parse_dates = ['created_date'], usecols = columns_used)"
   ]
  },
  {
   "cell_type": "code",
   "execution_count": 5,
   "metadata": {},
   "outputs": [
    {
     "data": {
      "text/html": [
       "<div>\n",
       "<style scoped>\n",
       "    .dataframe tbody tr th:only-of-type {\n",
       "        vertical-align: middle;\n",
       "    }\n",
       "\n",
       "    .dataframe tbody tr th {\n",
       "        vertical-align: top;\n",
       "    }\n",
       "\n",
       "    .dataframe thead th {\n",
       "        text-align: right;\n",
       "    }\n",
       "</style>\n",
       "<table border=\"1\" class=\"dataframe\">\n",
       "  <thead>\n",
       "    <tr style=\"text-align: right;\">\n",
       "      <th></th>\n",
       "      <th>created_date</th>\n",
       "      <th>unique_key</th>\n",
       "      <th>complaint_type</th>\n",
       "      <th>incident_zip</th>\n",
       "      <th>incident_address</th>\n",
       "      <th>street_name</th>\n",
       "      <th>city</th>\n",
       "      <th>borough</th>\n",
       "      <th>latitude</th>\n",
       "      <th>longitude</th>\n",
       "      <th>location_type</th>\n",
       "    </tr>\n",
       "  </thead>\n",
       "  <tbody>\n",
       "    <tr>\n",
       "      <th>0</th>\n",
       "      <td>2019-10-17 16:57:37</td>\n",
       "      <td>44081416</td>\n",
       "      <td>HEAT/HOT WATER</td>\n",
       "      <td>10,463.000</td>\n",
       "      <td>225 WEST  232 STREET</td>\n",
       "      <td>WEST  232 STREET</td>\n",
       "      <td>BRONX</td>\n",
       "      <td>BRONX</td>\n",
       "      <td>40.880</td>\n",
       "      <td>-73.904</td>\n",
       "      <td>RESIDENTIAL BUILDING</td>\n",
       "    </tr>\n",
       "    <tr>\n",
       "      <th>1</th>\n",
       "      <td>2019-10-17 18:04:24</td>\n",
       "      <td>44082732</td>\n",
       "      <td>HEAT/HOT WATER</td>\n",
       "      <td>10,032.000</td>\n",
       "      <td>261 FT WASHINGTON AVENUE</td>\n",
       "      <td>FT WASHINGTON AVENUE</td>\n",
       "      <td>NEW YORK</td>\n",
       "      <td>MANHATTAN</td>\n",
       "      <td>40.844</td>\n",
       "      <td>-73.941</td>\n",
       "      <td>RESIDENTIAL BUILDING</td>\n",
       "    </tr>\n",
       "    <tr>\n",
       "      <th>2</th>\n",
       "      <td>2019-10-17 22:40:04</td>\n",
       "      <td>44081467</td>\n",
       "      <td>HEAT/HOT WATER</td>\n",
       "      <td>10,033.000</td>\n",
       "      <td>350 FT WASHINGTON AVENUE</td>\n",
       "      <td>FT WASHINGTON AVENUE</td>\n",
       "      <td>NEW YORK</td>\n",
       "      <td>MANHATTAN</td>\n",
       "      <td>40.847</td>\n",
       "      <td>-73.940</td>\n",
       "      <td>RESIDENTIAL BUILDING</td>\n",
       "    </tr>\n",
       "    <tr>\n",
       "      <th>3</th>\n",
       "      <td>2019-10-17 09:47:43</td>\n",
       "      <td>44080113</td>\n",
       "      <td>HEAT/HOT WATER</td>\n",
       "      <td>11,211.000</td>\n",
       "      <td>276 SOUTH    1 STREET</td>\n",
       "      <td>SOUTH    1 STREET</td>\n",
       "      <td>BROOKLYN</td>\n",
       "      <td>BROOKLYN</td>\n",
       "      <td>40.712</td>\n",
       "      <td>-73.956</td>\n",
       "      <td>RESIDENTIAL BUILDING</td>\n",
       "    </tr>\n",
       "    <tr>\n",
       "      <th>4</th>\n",
       "      <td>2019-10-17 10:24:21</td>\n",
       "      <td>44081316</td>\n",
       "      <td>HEAT/HOT WATER</td>\n",
       "      <td>10,021.000</td>\n",
       "      <td>530 EAST   76 STREET</td>\n",
       "      <td>EAST   76 STREET</td>\n",
       "      <td>NEW YORK</td>\n",
       "      <td>MANHATTAN</td>\n",
       "      <td>40.769</td>\n",
       "      <td>-73.951</td>\n",
       "      <td>RESIDENTIAL BUILDING</td>\n",
       "    </tr>\n",
       "  </tbody>\n",
       "</table>\n",
       "</div>"
      ],
      "text/plain": [
       "         created_date  unique_key  complaint_type         incident_zip  \\\n",
       "0 2019-10-17 16:57:37    44081416  HEAT/HOT WATER           10,463.000   \n",
       "1 2019-10-17 18:04:24    44082732  HEAT/HOT WATER           10,032.000   \n",
       "2 2019-10-17 22:40:04    44081467  HEAT/HOT WATER           10,033.000   \n",
       "3 2019-10-17 09:47:43    44080113  HEAT/HOT WATER           11,211.000   \n",
       "4 2019-10-17 10:24:21    44081316  HEAT/HOT WATER           10,021.000   \n",
       "\n",
       "           incident_address           street_name      city    borough  \\\n",
       "0      225 WEST  232 STREET      WEST  232 STREET     BRONX      BRONX   \n",
       "1  261 FT WASHINGTON AVENUE  FT WASHINGTON AVENUE  NEW YORK  MANHATTAN   \n",
       "2  350 FT WASHINGTON AVENUE  FT WASHINGTON AVENUE  NEW YORK  MANHATTAN   \n",
       "3     276 SOUTH    1 STREET     SOUTH    1 STREET  BROOKLYN   BROOKLYN   \n",
       "4      530 EAST   76 STREET      EAST   76 STREET  NEW YORK  MANHATTAN   \n",
       "\n",
       "              latitude            longitude         location_type  \n",
       "0               40.880              -73.904  RESIDENTIAL BUILDING  \n",
       "1               40.844              -73.941  RESIDENTIAL BUILDING  \n",
       "2               40.847              -73.940  RESIDENTIAL BUILDING  \n",
       "3               40.712              -73.956  RESIDENTIAL BUILDING  \n",
       "4               40.769              -73.951  RESIDENTIAL BUILDING  "
      ]
     },
     "execution_count": 5,
     "metadata": {},
     "output_type": "execute_result"
    }
   ],
   "source": [
    "df.head()"
   ]
  },
  {
   "cell_type": "code",
   "execution_count": 6,
   "metadata": {},
   "outputs": [
    {
     "data": {
      "text/plain": [
       "(1912961, 11)"
      ]
     },
     "execution_count": 6,
     "metadata": {},
     "output_type": "execute_result"
    }
   ],
   "source": [
    "df.shape"
   ]
  },
  {
   "cell_type": "code",
   "execution_count": 7,
   "metadata": {},
   "outputs": [
    {
     "data": {
      "text/plain": [
       "created_date        datetime64[ns]\n",
       "unique_key                   int64\n",
       "complaint_type              object\n",
       "incident_zip               float64\n",
       "incident_address            object\n",
       "street_name                 object\n",
       "city                        object\n",
       "borough                     object\n",
       "latitude                   float64\n",
       "longitude                  float64\n",
       "location_type               object\n",
       "dtype: object"
      ]
     },
     "execution_count": 7,
     "metadata": {},
     "output_type": "execute_result"
    }
   ],
   "source": [
    "\n",
    "df.dtypes"
   ]
  },
  {
   "cell_type": "code",
   "execution_count": 8,
   "metadata": {},
   "outputs": [
    {
     "data": {
      "text/plain": [
       "HEATING                   558489\n",
       "GENERAL CONSTRUCTION      361749\n",
       "PLUMBING                  306572\n",
       "PAINT - PLASTER           264198\n",
       "NONCONST                  193254\n",
       "ELECTRIC                  110017\n",
       "HPD Literature Request     52830\n",
       "APPLIANCE                  35176\n",
       "HEAT/HOT WATER             10600\n",
       "UNSANITARY CONDITION        5857\n",
       "CONSTRUCTION                3677\n",
       "PAINT/PLASTER               2758\n",
       "WATER LEAK                  2646\n",
       "DOOR/WINDOW                 2017\n",
       "GENERAL                     1279\n",
       "FLOORING/STAIRS             1048\n",
       "SAFETY                       595\n",
       "ELEVATOR                     102\n",
       "OUTSIDE BUILDING              51\n",
       "Unsanitary Condition          25\n",
       "General                       15\n",
       "Safety                         4\n",
       "Appliance                      1\n",
       "AGENCY                         1\n",
       "Name: complaint_type, dtype: int64"
      ]
     },
     "execution_count": 8,
     "metadata": {},
     "output_type": "execute_result"
    }
   ],
   "source": [
    "df['complaint_type'].value_counts()"
   ]
  },
  {
   "cell_type": "code",
   "execution_count": 9,
   "metadata": {},
   "outputs": [],
   "source": [
    "df_complaint_type = df['complaint_type'].value_counts()\n",
    "df_complaint_type.sort_values(ascending = True, inplace =True)\n",
    "Total_complaint = df_complaint_type.sum()"
   ]
  },
  {
   "cell_type": "code",
   "execution_count": 11,
   "metadata": {},
   "outputs": [
    {
     "data": {
      "image/png": "[encoded data removed]",
      "text/plain": [
       "<Figure size 864x864 with 1 Axes>"
      ]
     },
     "metadata": {
      "needs_background": "light"
     },
     "output_type": "display_data"
    }
   ],
   "source": [
    "# Create the barh plot\n",
    "df_complaint_type.plot(kind = 'barh', figsize = (12,12))\n",
    "\n",
    "for index, value in enumerate(df_complaint_type):\n",
    "    label =  '{}%'.format(round((value/Total_complaint)*100, 2)) \n",
    "    plt.annotate(label, xy=(value + 10000, index-0.1), color='blue')\n",
    "    \n",
    "plt.show()"
   ]
  },
  {
   "cell_type": "markdown",
   "metadata": {},
   "source": [
    "# The top complain is heating."
   ]
  }
 ],
 "metadata": {
  "kernelspec": {
   "display_name": "Python 3.6",
   "language": "python",
   "name": "python3"
  },
  "language_info": {
   "codemirror_mode": {
    "name": "ipython",
    "version": 3
   },
   "file_extension": ".py",
   "mimetype": "text/x-python",
   "name": "python",
   "nbconvert_exporter": "python",
   "pygments_lexer": "ipython3",
   "version": "3.6.8"
  }
 },
 "nbformat": 4,
 "nbformat_minor": 1
}
